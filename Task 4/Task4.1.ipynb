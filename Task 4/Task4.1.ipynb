{
 "cells": [
  {
   "cell_type": "code",
   "execution_count": 1,
   "id": "a9c922e6",
   "metadata": {},
   "outputs": [],
   "source": [
    "# Task -> Create image by yourself Using Python Code "
   ]
  },
  {
   "cell_type": "code",
   "execution_count": 2,
   "id": "2d37b677",
   "metadata": {},
   "outputs": [],
   "source": [
    "import cv2\n",
    "import numpy"
   ]
  },
  {
   "cell_type": "code",
   "execution_count": 3,
   "id": "9efd740a",
   "metadata": {},
   "outputs": [],
   "source": [
    "background = numpy.zeros((750,1000,3),numpy.uint8)\n",
    "background[:,:]=(204, 0, 153)"
   ]
  },
  {
   "cell_type": "code",
   "execution_count": 4,
   "id": "2e56b5cd",
   "metadata": {},
   "outputs": [],
   "source": [
    "background = cv2.line(background,(0,560),(1000,560),(255,153,255),10)"
   ]
  },
  {
   "cell_type": "code",
   "execution_count": 5,
   "id": "e2195f52",
   "metadata": {},
   "outputs": [],
   "source": [
    "# stomach\n",
    "background = cv2.ellipse(background, (480, 375), (15,80), 45, 0,360, (255, 153, 51), -1)\n",
    "background = cv2.ellipse(background, (480, 375), (15,80), 45, 0,360, (0,0,0), 2)\n",
    "background = cv2.ellipse(background, (325, 445), (15,80), 30, 0,360, (255, 153, 51), -1)\n",
    "background = cv2.ellipse(background, (325, 445), (15,80), 30, 0,360, (0,0,0), 2)\n",
    "background = cv2.rectangle(background,(350,375),(450,550),(255, 153, 5),-1)"
   ]
  },
  {
   "cell_type": "code",
   "execution_count": 6,
   "id": "47b5f670",
   "metadata": {},
   "outputs": [],
   "source": [
    "background = cv2.ellipse(background, (400, 450), (50, 60), 0, 0, 360, (255, 255, 255), -1)\n",
    "background = cv2.ellipse(background, (400, 450), (50, 60), 0, 0, 360, (0, 0, 0), 2)"
   ]
  },
  {
   "cell_type": "code",
   "execution_count": 7,
   "id": "599469b5",
   "metadata": {},
   "outputs": [],
   "source": [
    "background = cv2.ellipse(background, (350, 470), (10,75), 0, 90, 270, (255, 153, 51), -1)\n",
    "background = cv2.ellipse(background, (350, 470), (10,75), 0, 90, 270, (0,0,0), 2)\n",
    "background = cv2.ellipse(background, (450, 470), (10,75), 180, 90, 270, (255, 153, 51), -1)\n",
    "background = cv2.ellipse(background, (450, 470), (10,75), 180, 90, 270, (0,0,0), 2)"
   ]
  },
  {
   "cell_type": "code",
   "execution_count": 8,
   "id": "4bcad97a",
   "metadata": {},
   "outputs": [],
   "source": [
    "background = cv2.ellipse(background, (400, 315), (80,95), 0, 55, 125, (0,0,255), 5)"
   ]
  },
  {
   "cell_type": "code",
   "execution_count": 9,
   "id": "0a93de8b",
   "metadata": {},
   "outputs": [],
   "source": [
    "# Outer face\n",
    "background = cv2.ellipse(background, (400, 300), (90, 105), 0, 0, 360, (255, 153, 51), -1)\n",
    "background = cv2.ellipse(background, (400, 300), (90, 105), 0, 0, 360, (0,0,0), 2)"
   ]
  },
  {
   "cell_type": "code",
   "execution_count": 10,
   "id": "2482b009",
   "metadata": {},
   "outputs": [],
   "source": [
    "# Inner face\n",
    "background = cv2.ellipse(background, (400, 320), (75, 85), 0, 0, 360, (255, 255, 255), -1)\n",
    "background = cv2.ellipse(background, (400, 320), (75, 85), 0, 0, 360, (0, 0, 0), 2)"
   ]
  },
  {
   "cell_type": "code",
   "execution_count": 11,
   "id": "6ac23523",
   "metadata": {},
   "outputs": [],
   "source": [
    "# Eyes\n",
    "background = cv2.ellipse(background, (383, 243), (17,22), 0, 0, 360, (255, 255, 255), -1)\n",
    "background = cv2.ellipse(background, (383, 243), (17,22), 0, 0, 360, (0,0,0), 2)\n",
    "background = cv2.ellipse(background, (417, 243), (17,22), 0, 0, 360, (255, 255, 255), -1)\n",
    "background = cv2.ellipse(background, (417, 243), (17,22), 0, 0, 360, (0,0,0), 2)"
   ]
  },
  {
   "cell_type": "code",
   "execution_count": 12,
   "id": "1f45300f",
   "metadata": {},
   "outputs": [],
   "source": [
    "# Feet\n",
    "background = cv2.ellipse(background, (365, 550), (36,22), 0, 0, 360, (255, 255, 255), -1)\n",
    "background = cv2.ellipse(background, (365, 550), (36,22), 0, 0, 360, (0,0,0), 2)\n",
    "background = cv2.ellipse(background, (440, 550), (36,22), 0, 0, 360, (255, 255, 255), -1)\n",
    "background = cv2.ellipse(background, (440, 550), (36,22), 0, 0, 360, (0,0,0), 2)"
   ]
  },
  {
   "cell_type": "code",
   "execution_count": 13,
   "id": "637d3b6c",
   "metadata": {},
   "outputs": [],
   "source": [
    "# Hands\n",
    "background = cv2.ellipse(background, (295, 500), (20,20), 0, 0, 360, (255, 255, 255), -1)\n",
    "background = cv2.ellipse(background, (295, 500), (20,20), 0, 0, 360, (0,0,0), 2)\n",
    "background = cv2.ellipse(background, (530, 330), (20,20), 0, 0, 360, (255, 255, 255), -1)\n",
    "background = cv2.ellipse(background, (530, 330), (20,20), 0, 0, 360, (0,0,0), 2)"
   ]
  },
  {
   "cell_type": "code",
   "execution_count": 14,
   "id": "d416dfe1",
   "metadata": {},
   "outputs": [],
   "source": [
    "# Bell\n",
    "background = cv2.ellipse(background, (400, 410), (7,7), 0, 0, 360, (0, 255, 255), -1)\n",
    "background = cv2.ellipse(background, (400, 410), (7,7), 0, 0, 360, (0,0,0), 1)"
   ]
  },
  {
   "cell_type": "code",
   "execution_count": 15,
   "id": "f087b873",
   "metadata": {},
   "outputs": [],
   "source": [
    "# Pocket\n",
    "background = cv2.ellipse(background, (400, 450), (30,40), 0, 0, 180, (0,0,0), 2)\n",
    "background = cv2.ellipse(background, (400, 450), (30,5), 0, 0, 180, (0,0,0), 2)"
   ]
  },
  {
   "cell_type": "code",
   "execution_count": 16,
   "id": "d2f8d1af",
   "metadata": {},
   "outputs": [],
   "source": [
    "# Mouth\n",
    "background = cv2.ellipse(background, (400, 325), (40,50), 0, 0, 180, (0,51,255), -1)\n",
    "background = cv2.ellipse(background, (400, 325), (40,50), 0, 0, 180, (0,0,0), 2)"
   ]
  },
  {
   "cell_type": "code",
   "execution_count": 17,
   "id": "ccc62484",
   "metadata": {},
   "outputs": [],
   "source": [
    "# Mouth Upper Line\n",
    "background = cv2.ellipse(background, (400, 325), (40,5), 0, 0, 180, (255,255,255), -1)\n",
    "background = cv2.ellipse(background, (400, 325), (40,5), 0, 0, 180, (0,0,0), 2)"
   ]
  },
  {
   "cell_type": "code",
   "execution_count": 18,
   "id": "cef85482",
   "metadata": {},
   "outputs": [],
   "source": [
    "# Nose\n",
    "background = cv2.ellipse(background, (399, 270), (9,9), 0, 0, 360, (0, 51, 255), -1)\n",
    "background = cv2.ellipse(background, (399, 270), (9,9), 0, 0, 360, (0,0,0), 2)"
   ]
  },
  {
   "cell_type": "code",
   "execution_count": 19,
   "id": "2b9bb056",
   "metadata": {},
   "outputs": [],
   "source": [
    "# Nose Line\n",
    "background = cv2.line(background,(399,280),(399,330),(0,0,0),2)"
   ]
  },
  {
   "cell_type": "code",
   "execution_count": 20,
   "id": "fb8befef",
   "metadata": {},
   "outputs": [],
   "source": [
    "# Eyes\n",
    "background = cv2.ellipse(background, (389, 250), (4,7), 0, 0, 360, (0,0,0), -1)\n",
    "background = cv2.ellipse(background, (411, 250), (4,7), 0, 0, 360, (0,0,0), -1)"
   ]
  },
  {
   "cell_type": "code",
   "execution_count": 21,
   "id": "deaaaaba",
   "metadata": {},
   "outputs": [],
   "source": [
    "# \n",
    "background = cv2.line(background,(375,280),(340,260),(0,0,0),2)\n",
    "background = cv2.line(background,(375,290),(320,290),(0,0,0),2)\n",
    "background = cv2.line(background,(375,300),(330,320),(0,0,0),2)\n",
    "\n",
    "background = cv2.line(background,(425,280),(450,250),(0,0,0),2)\n",
    "background = cv2.line(background,(425,290),(470,285),(0,0,0),2)\n",
    "background = cv2.line(background,(425,300),(450,320),(0,0,0),2)"
   ]
  },
  {
   "cell_type": "code",
   "execution_count": 22,
   "id": "1ab47479",
   "metadata": {},
   "outputs": [],
   "source": [
    "cv2.imshow(\"Image\",background)\n",
    "cv2.waitKey()\n",
    "cv2.destroyAllWindows()"
   ]
  },
  {
   "cell_type": "code",
   "execution_count": 23,
   "id": "d5a3b1bf",
   "metadata": {},
   "outputs": [
    {
     "data": {
      "text/plain": [
       "True"
      ]
     },
     "execution_count": 23,
     "metadata": {},
     "output_type": "execute_result"
    }
   ],
   "source": [
    "cv2.imwrite('task4.1.jpg',background)"
   ]
  },
  {
   "cell_type": "code",
   "execution_count": null,
   "id": "f45bbafb",
   "metadata": {},
   "outputs": [],
   "source": []
  }
 ],
 "metadata": {
  "kernelspec": {
   "display_name": "Python 3",
   "language": "python",
   "name": "python3"
  },
  "language_info": {
   "codemirror_mode": {
    "name": "ipython",
    "version": 3
   },
   "file_extension": ".py",
   "mimetype": "text/x-python",
   "name": "python",
   "nbconvert_exporter": "python",
   "pygments_lexer": "ipython3",
   "version": "3.8.8"
  }
 },
 "nbformat": 4,
 "nbformat_minor": 5
}
