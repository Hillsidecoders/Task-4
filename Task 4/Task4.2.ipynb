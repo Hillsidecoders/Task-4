{
 "cells": [
  {
   "cell_type": "code",
   "execution_count": 1,
   "id": "66cf8eea",
   "metadata": {},
   "outputs": [],
   "source": [
    "# Task -> Take 2 image crop some part of both image and swap it. \n",
    "\n",
    "import cv2,numpy\n",
    "\n",
    "photo=cv2.imread('dog1.jpg')  # dog1\n",
    "cv2.imshow('hi',photo)\n",
    "\n",
    "cv2.waitKey()\n",
    "cv2.destroyAllWindows()\n",
    "\n",
    "a=photo[153:423,132:420]\n",
    "cv2.imshow('hi',a)\n",
    "\n",
    "cv2.waitKey()\n",
    "cv2.destroyAllWindows()\n",
    "\n",
    "photo2=cv2.imread('dog2.jpg')  # dog2\n",
    "cv2.imshow('hi',photo2)\n",
    "\n",
    "cv2.waitKey()\n",
    "cv2.destroyAllWindows()\n",
    "\n",
    "photo2[153:423,132:420]=a\n",
    "cv2.imshow('hi',photo2)\n",
    "\n",
    "cv2.waitKey()\n",
    "cv2.destroyAllWindows()"
   ]
  }
 ],
 "metadata": {
  "kernelspec": {
   "display_name": "Python 3",
   "language": "python",
   "name": "python3"
  },
  "language_info": {
   "codemirror_mode": {
    "name": "ipython",
    "version": 3
   },
   "file_extension": ".py",
   "mimetype": "text/x-python",
   "name": "python",
   "nbconvert_exporter": "python",
   "pygments_lexer": "ipython3",
   "version": "3.8.8"
  }
 },
 "nbformat": 4,
 "nbformat_minor": 5
}
