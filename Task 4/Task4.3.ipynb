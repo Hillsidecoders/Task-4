{
 "cells": [
  {
   "cell_type": "code",
   "execution_count": 1,
   "id": "d744c031",
   "metadata": {},
   "outputs": [],
   "source": [
    "# Task -> Take 2 or more images and combine it to form single image. For example collage"
   ]
  },
  {
   "cell_type": "code",
   "execution_count": 2,
   "id": "f06759ee",
   "metadata": {},
   "outputs": [],
   "source": [
    "import cv2,numpy "
   ]
  },
  {
   "cell_type": "code",
   "execution_count": 3,
   "id": "cd50d4f0",
   "metadata": {},
   "outputs": [],
   "source": [
    "photo=cv2.imread('dog1.jpg')\n",
    "cv2.imshow('DOG1',photo)\n",
    "cv2.waitKey()\n",
    "cv2.destroyAllWindows()"
   ]
  },
  {
   "cell_type": "code",
   "execution_count": 4,
   "id": "a9958586",
   "metadata": {},
   "outputs": [],
   "source": [
    "photo2=cv2.imread('dog2.jpg')\n",
    "cv2.imshow('DOG2',photo2)\n",
    "cv2.waitKey()\n",
    "cv2.destroyAllWindows()"
   ]
  },
  {
   "cell_type": "code",
   "execution_count": 5,
   "id": "5dc4e388",
   "metadata": {},
   "outputs": [],
   "source": [
    "photo3=cv2.imread('dog3.jpg')\n",
    "cv2.imshow('DOG3',photo3)\n",
    "cv2.waitKey()\n",
    "cv2.destroyAllWindows()"
   ]
  },
  {
   "cell_type": "code",
   "execution_count": 6,
   "id": "010edd87",
   "metadata": {},
   "outputs": [],
   "source": [
    "photo4=cv2.imread('dog4.jpg')\n",
    "cv2.imshow('DOG4',photo4)\n",
    "cv2.waitKey()\n",
    "cv2.destroyAllWindows()"
   ]
  },
  {
   "cell_type": "code",
   "execution_count": 7,
   "id": "0f891269",
   "metadata": {},
   "outputs": [],
   "source": [
    "arr=numpy.hstack([photo,photo2])\n",
    "cv2.imshow('COLLAGE1',arr)\n",
    "cv2.waitKey()\n",
    "cv2.destroyAllWindows()"
   ]
  },
  {
   "cell_type": "code",
   "execution_count": 8,
   "id": "6c98a573",
   "metadata": {},
   "outputs": [],
   "source": [
    "arr2=numpy.hstack([photo3,photo4])\n",
    "cv2.imshow('COLLAGE2',arr2)\n",
    "cv2.waitKey()\n",
    "cv2.destroyAllWindows()"
   ]
  },
  {
   "cell_type": "code",
   "execution_count": 9,
   "id": "077e6f69",
   "metadata": {},
   "outputs": [],
   "source": [
    "arr3=numpy.vstack([arr,arr2])"
   ]
  },
  {
   "cell_type": "code",
   "execution_count": 10,
   "id": "7b048e04",
   "metadata": {},
   "outputs": [],
   "source": [
    "arr4=cv2.resize(arr3,(512,512))"
   ]
  },
  {
   "cell_type": "code",
   "execution_count": 11,
   "id": "6e1fa566",
   "metadata": {},
   "outputs": [],
   "source": [
    "cv2.imshow('COLLAGE3',arr4)\n",
    "cv2.waitKey()\n",
    "cv2.destroyAllWindows()"
   ]
  }
 ],
 "metadata": {
  "kernelspec": {
   "display_name": "Python 3",
   "language": "python",
   "name": "python3"
  },
  "language_info": {
   "codemirror_mode": {
    "name": "ipython",
    "version": 3
   },
   "file_extension": ".py",
   "mimetype": "text/x-python",
   "name": "python",
   "nbconvert_exporter": "python",
   "pygments_lexer": "ipython3",
   "version": "3.8.8"
  }
 },
 "nbformat": 4,
 "nbformat_minor": 5
}
